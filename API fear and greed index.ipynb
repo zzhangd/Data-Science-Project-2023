{
 "cells": [
  {
   "cell_type": "code",
   "execution_count": 6,
   "id": "59e3f4ba-5ca7-4719-b6bf-ba00e00fde3a",
   "metadata": {},
   "outputs": [
    {
     "name": "stdout",
     "output_type": "stream",
     "text": [
      "Data has been written to fear_and_greed_index.csv\n"
     ]
    }
   ],
   "source": [
    "import csv\n",
    "import requests\n",
    "from datetime import datetime, timezone, timedelta\n",
    "\n",
    "# API URL\n",
    "url = \"https://api.alternative.me/fng/?limit=0&format=json\"\n",
    "\n",
    "# HTTP GET request\n",
    "response = requests.get(url, timeout=5)\n",
    "data = response.json()\n",
    "\n",
    "def convert_to_uk_time(unix_timestamp):\n",
    "    utc_time = datetime.utcfromtimestamp(int(unix_timestamp))\n",
    "    uk_time = utc_time + timedelta(hours=1)  # 英国时间比UTC早1小时\n",
    "    return uk_time.strftime('%Y-%m-%d %H:%M:%S')\n",
    "\n",
    "header = ['value', 'value_classification', 'timestamp', 'time_until_update']\n",
    "rows = []\n",
    "\n",
    "for item in data['data']:\n",
    "    timestamp_uk = convert_to_uk_time(item.get('timestamp', ''))\n",
    "    row = [\n",
    "        item.get('value', ''),\n",
    "        item.get('value_classification', ''),\n",
    "        timestamp_uk,\n",
    "        item.get('time_until_update', '')\n",
    "    ]\n",
    "    rows.append(row)\n",
    "\n",
    "#  CSV file\n",
    "csv_file = 'fear_and_greed_index.csv'\n",
    "with open(csv_file, 'w', newline='') as file:\n",
    "    writer = csv.writer(file)\n",
    "    writer.writerow(header)\n",
    "    writer.writerows(rows)\n",
    "\n",
    "print(f\"Data has been written to {csv_file}\")\n"
   ]
  }
 ],
 "metadata": {
  "kernelspec": {
   "display_name": "Python 3 (ipykernel)",
   "language": "python",
   "name": "python3"
  },
  "language_info": {
   "codemirror_mode": {
    "name": "ipython",
    "version": 3
   },
   "file_extension": ".py",
   "mimetype": "text/x-python",
   "name": "python",
   "nbconvert_exporter": "python",
   "pygments_lexer": "ipython3",
   "version": "3.11.7"
  }
 },
 "nbformat": 4,
 "nbformat_minor": 5
}
